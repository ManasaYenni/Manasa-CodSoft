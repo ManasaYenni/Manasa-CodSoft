{
  "nbformat": 4,
  "nbformat_minor": 0,
  "metadata": {
    "colab": {
      "provenance": [],
      "authorship_tag": "ABX9TyMGi4QRLb4yubBXsHDywVnr",
      "include_colab_link": true
    },
    "kernelspec": {
      "name": "python3",
      "display_name": "Python 3"
    },
    "language_info": {
      "name": "python"
    }
  },
  "cells": [
    {
      "cell_type": "markdown",
      "metadata": {
        "id": "view-in-github",
        "colab_type": "text"
      },
      "source": [
        "<a href=\"https://colab.research.google.com/github/ManasaYenni/Manasa-CodSoft/blob/main/sales_prediction.ipynb\" target=\"_parent\"><img src=\"https://colab.research.google.com/assets/colab-badge.svg\" alt=\"Open In Colab\"/></a>"
      ]
    },
    {
      "cell_type": "code",
      "execution_count": null,
      "metadata": {
        "id": "pY0jfJgNlkTm"
      },
      "outputs": [],
      "source": [
        "import numpy as np\n",
        "import pandas as pd\n",
        "import matplotlib.pyplot as plt\n",
        "import seaborn as sns"
      ]
    },
    {
      "cell_type": "code",
      "source": [
        "from sklearn.linear_model import LogisticRegression\n",
        "from sklearn.svm import SVC\n",
        "from sklearn.neighbors import KNeighborsClassifier\n",
        "from sklearn.tree import DecisionTreeClassifier\n",
        "from sklearn.ensemble import RandomForestClassifier"
      ],
      "metadata": {
        "id": "3gLV2gh-v1_U"
      },
      "execution_count": null,
      "outputs": []
    },
    {
      "cell_type": "code",
      "source": [
        "from sklearn.preprocessing import MinMaxScaler\n",
        "from sklearn.model_selection import train_test_split, RandomizedSearchCV, GridSearchCV\n",
        "from sklearn.model_selection  import cross_val_score\n",
        "from imblearn.over_sampling import SMOTE\n",
        "from sklearn.metrics import precision_score, recall_score, f1_score, mean_squared_error\n",
        "from sklearn.metrics import accuracy_score, classification_report, confusion_matrix\n",
        "from sklearn.cluster import KMeans"
      ],
      "metadata": {
        "id": "XgCOYnmwv4Lc"
      },
      "execution_count": null,
      "outputs": []
    },
    {
      "cell_type": "code",
      "source": [
        "from tensorflow import keras\n",
        "from tensorflow.keras.models import Sequential\n",
        "from tensorflow.keras.layers import Dense,Dropout\n",
        "\n",
        "import warnings\n",
        "warnings.filterwarnings(\"ignore\")"
      ],
      "metadata": {
        "id": "cjhR0CUuv6bt"
      },
      "execution_count": null,
      "outputs": []
    },
    {
      "cell_type": "code",
      "source": [
        "data= pd.read_csv('/creditcard.csv')\n",
        "data"
      ],
      "metadata": {
        "colab": {
          "base_uri": "https://localhost:8080/",
          "height": 443
        },
        "id": "kbfu3Poyv9eZ",
        "outputId": "53f54b9e-b2bf-4d29-857c-239f642edcc4"
      },
      "execution_count": null,
      "outputs": [
        {
          "output_type": "execute_result",
          "data": {
            "text/plain": [
              "        Time        V1        V2        V3        V4        V5        V6  \\\n",
              "0          0 -1.359807 -0.072781  2.536347  1.378155 -0.338321  0.462388   \n",
              "1          0  1.191857  0.266151  0.166480  0.448154  0.060018 -0.082361   \n",
              "2          1 -1.358354 -1.340163  1.773209  0.379780 -0.503198  1.800499   \n",
              "3          1 -0.966272 -0.185226  1.792993 -0.863291 -0.010309  1.247203   \n",
              "4          2 -1.158233  0.877737  1.548718  0.403034 -0.407193  0.095921   \n",
              "...      ...       ...       ...       ...       ...       ...       ...   \n",
              "79313  57966 -0.527571 -3.483241 -0.206444 -0.583181 -2.067419 -0.129826   \n",
              "79314  57966 -0.541422  1.341092  0.576882  0.733835  0.259657 -0.233639   \n",
              "79315  57966 -0.830218  0.971781  0.974916 -1.348723 -0.230572 -0.778253   \n",
              "79316  57966  1.104838 -1.141651  0.942113 -0.661271 -1.591229 -0.056758   \n",
              "79317  57967 -3.560685  3.485801 -0.070146  2.191571 -0.429913  1.075498   \n",
              "\n",
              "             V7        V8        V9  ...       V21       V22       V23  \\\n",
              "0      0.239599  0.098698  0.363787  ... -0.018307  0.277838 -0.110474   \n",
              "1     -0.078803  0.085102 -0.255425  ... -0.225775 -0.638672  0.101288   \n",
              "2      0.791461  0.247676 -1.514654  ...  0.247998  0.771679  0.909412   \n",
              "3      0.237609  0.377436 -1.387024  ... -0.108300  0.005274 -0.190321   \n",
              "4      0.592941 -0.270533  0.817739  ... -0.009431  0.798278 -0.137458   \n",
              "...         ...       ...       ...  ...       ...       ...       ...   \n",
              "79313  0.454118 -0.149176  1.863281  ...  0.691203  0.224470 -0.875993   \n",
              "79314  0.712069  0.190731 -1.067355  ...  0.189997  0.493842 -0.141807   \n",
              "79315  0.395464  0.109896  0.234581  ... -0.115767 -0.335950 -0.068152   \n",
              "79316 -1.192570  0.275125 -0.447900  ...  0.508825  1.146845 -0.117753   \n",
              "79317 -0.935968 -2.147517 -1.165398  ...       NaN       NaN       NaN   \n",
              "\n",
              "            V24       V25       V26       V27       V28  Amount  Class  \n",
              "0      0.066928  0.128539 -0.189115  0.133558 -0.021053  149.62    0.0  \n",
              "1     -0.339846  0.167170  0.125895 -0.008983  0.014724    2.69    0.0  \n",
              "2     -0.689281 -0.327642 -0.139097 -0.055353 -0.059752  378.66    0.0  \n",
              "3     -1.175575  0.647376 -0.221929  0.062723  0.061458  123.50    0.0  \n",
              "4      0.141267 -0.206010  0.502292  0.219422  0.215153   69.99    0.0  \n",
              "...         ...       ...       ...       ...       ...     ...    ...  \n",
              "79313  0.204226  0.079542  0.029189 -0.109220  0.178251  912.79    0.0  \n",
              "79314 -0.406546 -0.043605 -0.287510  0.045194  0.100293   49.33    0.0  \n",
              "79315 -0.109514 -0.204347  0.703500 -0.383530 -0.223780   14.60    0.0  \n",
              "79316  0.241582  0.212189 -0.054096  0.023744  0.026206   99.00    0.0  \n",
              "79317       NaN       NaN       NaN       NaN       NaN     NaN    NaN  \n",
              "\n",
              "[79318 rows x 31 columns]"
            ],
            "text/html": [
              "\n",
              "  <div id=\"df-6150a221-7fe3-4816-b803-5baa43f58669\" class=\"colab-df-container\">\n",
              "    <div>\n",
              "<style scoped>\n",
              "    .dataframe tbody tr th:only-of-type {\n",
              "        vertical-align: middle;\n",
              "    }\n",
              "\n",
              "    .dataframe tbody tr th {\n",
              "        vertical-align: top;\n",
              "    }\n",
              "\n",
              "    .dataframe thead th {\n",
              "        text-align: right;\n",
              "    }\n",
              "</style>\n",
              "<table border=\"1\" class=\"dataframe\">\n",
              "  <thead>\n",
              "    <tr style=\"text-align: right;\">\n",
              "      <th></th>\n",
              "      <th>Time</th>\n",
              "      <th>V1</th>\n",
              "      <th>V2</th>\n",
              "      <th>V3</th>\n",
              "      <th>V4</th>\n",
              "      <th>V5</th>\n",
              "      <th>V6</th>\n",
              "      <th>V7</th>\n",
              "      <th>V8</th>\n",
              "      <th>V9</th>\n",
              "      <th>...</th>\n",
              "      <th>V21</th>\n",
              "      <th>V22</th>\n",
              "      <th>V23</th>\n",
              "      <th>V24</th>\n",
              "      <th>V25</th>\n",
              "      <th>V26</th>\n",
              "      <th>V27</th>\n",
              "      <th>V28</th>\n",
              "      <th>Amount</th>\n",
              "      <th>Class</th>\n",
              "    </tr>\n",
              "  </thead>\n",
              "  <tbody>\n",
              "    <tr>\n",
              "      <th>0</th>\n",
              "      <td>0</td>\n",
              "      <td>-1.359807</td>\n",
              "      <td>-0.072781</td>\n",
              "      <td>2.536347</td>\n",
              "      <td>1.378155</td>\n",
              "      <td>-0.338321</td>\n",
              "      <td>0.462388</td>\n",
              "      <td>0.239599</td>\n",
              "      <td>0.098698</td>\n",
              "      <td>0.363787</td>\n",
              "      <td>...</td>\n",
              "      <td>-0.018307</td>\n",
              "      <td>0.277838</td>\n",
              "      <td>-0.110474</td>\n",
              "      <td>0.066928</td>\n",
              "      <td>0.128539</td>\n",
              "      <td>-0.189115</td>\n",
              "      <td>0.133558</td>\n",
              "      <td>-0.021053</td>\n",
              "      <td>149.62</td>\n",
              "      <td>0.0</td>\n",
              "    </tr>\n",
              "    <tr>\n",
              "      <th>1</th>\n",
              "      <td>0</td>\n",
              "      <td>1.191857</td>\n",
              "      <td>0.266151</td>\n",
              "      <td>0.166480</td>\n",
              "      <td>0.448154</td>\n",
              "      <td>0.060018</td>\n",
              "      <td>-0.082361</td>\n",
              "      <td>-0.078803</td>\n",
              "      <td>0.085102</td>\n",
              "      <td>-0.255425</td>\n",
              "      <td>...</td>\n",
              "      <td>-0.225775</td>\n",
              "      <td>-0.638672</td>\n",
              "      <td>0.101288</td>\n",
              "      <td>-0.339846</td>\n",
              "      <td>0.167170</td>\n",
              "      <td>0.125895</td>\n",
              "      <td>-0.008983</td>\n",
              "      <td>0.014724</td>\n",
              "      <td>2.69</td>\n",
              "      <td>0.0</td>\n",
              "    </tr>\n",
              "    <tr>\n",
              "      <th>2</th>\n",
              "      <td>1</td>\n",
              "      <td>-1.358354</td>\n",
              "      <td>-1.340163</td>\n",
              "      <td>1.773209</td>\n",
              "      <td>0.379780</td>\n",
              "      <td>-0.503198</td>\n",
              "      <td>1.800499</td>\n",
              "      <td>0.791461</td>\n",
              "      <td>0.247676</td>\n",
              "      <td>-1.514654</td>\n",
              "      <td>...</td>\n",
              "      <td>0.247998</td>\n",
              "      <td>0.771679</td>\n",
              "      <td>0.909412</td>\n",
              "      <td>-0.689281</td>\n",
              "      <td>-0.327642</td>\n",
              "      <td>-0.139097</td>\n",
              "      <td>-0.055353</td>\n",
              "      <td>-0.059752</td>\n",
              "      <td>378.66</td>\n",
              "      <td>0.0</td>\n",
              "    </tr>\n",
              "    <tr>\n",
              "      <th>3</th>\n",
              "      <td>1</td>\n",
              "      <td>-0.966272</td>\n",
              "      <td>-0.185226</td>\n",
              "      <td>1.792993</td>\n",
              "      <td>-0.863291</td>\n",
              "      <td>-0.010309</td>\n",
              "      <td>1.247203</td>\n",
              "      <td>0.237609</td>\n",
              "      <td>0.377436</td>\n",
              "      <td>-1.387024</td>\n",
              "      <td>...</td>\n",
              "      <td>-0.108300</td>\n",
              "      <td>0.005274</td>\n",
              "      <td>-0.190321</td>\n",
              "      <td>-1.175575</td>\n",
              "      <td>0.647376</td>\n",
              "      <td>-0.221929</td>\n",
              "      <td>0.062723</td>\n",
              "      <td>0.061458</td>\n",
              "      <td>123.50</td>\n",
              "      <td>0.0</td>\n",
              "    </tr>\n",
              "    <tr>\n",
              "      <th>4</th>\n",
              "      <td>2</td>\n",
              "      <td>-1.158233</td>\n",
              "      <td>0.877737</td>\n",
              "      <td>1.548718</td>\n",
              "      <td>0.403034</td>\n",
              "      <td>-0.407193</td>\n",
              "      <td>0.095921</td>\n",
              "      <td>0.592941</td>\n",
              "      <td>-0.270533</td>\n",
              "      <td>0.817739</td>\n",
              "      <td>...</td>\n",
              "      <td>-0.009431</td>\n",
              "      <td>0.798278</td>\n",
              "      <td>-0.137458</td>\n",
              "      <td>0.141267</td>\n",
              "      <td>-0.206010</td>\n",
              "      <td>0.502292</td>\n",
              "      <td>0.219422</td>\n",
              "      <td>0.215153</td>\n",
              "      <td>69.99</td>\n",
              "      <td>0.0</td>\n",
              "    </tr>\n",
              "    <tr>\n",
              "      <th>...</th>\n",
              "      <td>...</td>\n",
              "      <td>...</td>\n",
              "      <td>...</td>\n",
              "      <td>...</td>\n",
              "      <td>...</td>\n",
              "      <td>...</td>\n",
              "      <td>...</td>\n",
              "      <td>...</td>\n",
              "      <td>...</td>\n",
              "      <td>...</td>\n",
              "      <td>...</td>\n",
              "      <td>...</td>\n",
              "      <td>...</td>\n",
              "      <td>...</td>\n",
              "      <td>...</td>\n",
              "      <td>...</td>\n",
              "      <td>...</td>\n",
              "      <td>...</td>\n",
              "      <td>...</td>\n",
              "      <td>...</td>\n",
              "      <td>...</td>\n",
              "    </tr>\n",
              "    <tr>\n",
              "      <th>79313</th>\n",
              "      <td>57966</td>\n",
              "      <td>-0.527571</td>\n",
              "      <td>-3.483241</td>\n",
              "      <td>-0.206444</td>\n",
              "      <td>-0.583181</td>\n",
              "      <td>-2.067419</td>\n",
              "      <td>-0.129826</td>\n",
              "      <td>0.454118</td>\n",
              "      <td>-0.149176</td>\n",
              "      <td>1.863281</td>\n",
              "      <td>...</td>\n",
              "      <td>0.691203</td>\n",
              "      <td>0.224470</td>\n",
              "      <td>-0.875993</td>\n",
              "      <td>0.204226</td>\n",
              "      <td>0.079542</td>\n",
              "      <td>0.029189</td>\n",
              "      <td>-0.109220</td>\n",
              "      <td>0.178251</td>\n",
              "      <td>912.79</td>\n",
              "      <td>0.0</td>\n",
              "    </tr>\n",
              "    <tr>\n",
              "      <th>79314</th>\n",
              "      <td>57966</td>\n",
              "      <td>-0.541422</td>\n",
              "      <td>1.341092</td>\n",
              "      <td>0.576882</td>\n",
              "      <td>0.733835</td>\n",
              "      <td>0.259657</td>\n",
              "      <td>-0.233639</td>\n",
              "      <td>0.712069</td>\n",
              "      <td>0.190731</td>\n",
              "      <td>-1.067355</td>\n",
              "      <td>...</td>\n",
              "      <td>0.189997</td>\n",
              "      <td>0.493842</td>\n",
              "      <td>-0.141807</td>\n",
              "      <td>-0.406546</td>\n",
              "      <td>-0.043605</td>\n",
              "      <td>-0.287510</td>\n",
              "      <td>0.045194</td>\n",
              "      <td>0.100293</td>\n",
              "      <td>49.33</td>\n",
              "      <td>0.0</td>\n",
              "    </tr>\n",
              "    <tr>\n",
              "      <th>79315</th>\n",
              "      <td>57966</td>\n",
              "      <td>-0.830218</td>\n",
              "      <td>0.971781</td>\n",
              "      <td>0.974916</td>\n",
              "      <td>-1.348723</td>\n",
              "      <td>-0.230572</td>\n",
              "      <td>-0.778253</td>\n",
              "      <td>0.395464</td>\n",
              "      <td>0.109896</td>\n",
              "      <td>0.234581</td>\n",
              "      <td>...</td>\n",
              "      <td>-0.115767</td>\n",
              "      <td>-0.335950</td>\n",
              "      <td>-0.068152</td>\n",
              "      <td>-0.109514</td>\n",
              "      <td>-0.204347</td>\n",
              "      <td>0.703500</td>\n",
              "      <td>-0.383530</td>\n",
              "      <td>-0.223780</td>\n",
              "      <td>14.60</td>\n",
              "      <td>0.0</td>\n",
              "    </tr>\n",
              "    <tr>\n",
              "      <th>79316</th>\n",
              "      <td>57966</td>\n",
              "      <td>1.104838</td>\n",
              "      <td>-1.141651</td>\n",
              "      <td>0.942113</td>\n",
              "      <td>-0.661271</td>\n",
              "      <td>-1.591229</td>\n",
              "      <td>-0.056758</td>\n",
              "      <td>-1.192570</td>\n",
              "      <td>0.275125</td>\n",
              "      <td>-0.447900</td>\n",
              "      <td>...</td>\n",
              "      <td>0.508825</td>\n",
              "      <td>1.146845</td>\n",
              "      <td>-0.117753</td>\n",
              "      <td>0.241582</td>\n",
              "      <td>0.212189</td>\n",
              "      <td>-0.054096</td>\n",
              "      <td>0.023744</td>\n",
              "      <td>0.026206</td>\n",
              "      <td>99.00</td>\n",
              "      <td>0.0</td>\n",
              "    </tr>\n",
              "    <tr>\n",
              "      <th>79317</th>\n",
              "      <td>57967</td>\n",
              "      <td>-3.560685</td>\n",
              "      <td>3.485801</td>\n",
              "      <td>-0.070146</td>\n",
              "      <td>2.191571</td>\n",
              "      <td>-0.429913</td>\n",
              "      <td>1.075498</td>\n",
              "      <td>-0.935968</td>\n",
              "      <td>-2.147517</td>\n",
              "      <td>-1.165398</td>\n",
              "      <td>...</td>\n",
              "      <td>NaN</td>\n",
              "      <td>NaN</td>\n",
              "      <td>NaN</td>\n",
              "      <td>NaN</td>\n",
              "      <td>NaN</td>\n",
              "      <td>NaN</td>\n",
              "      <td>NaN</td>\n",
              "      <td>NaN</td>\n",
              "      <td>NaN</td>\n",
              "      <td>NaN</td>\n",
              "    </tr>\n",
              "  </tbody>\n",
              "</table>\n",
              "<p>79318 rows × 31 columns</p>\n",
              "</div>\n",
              "    <div class=\"colab-df-buttons\">\n",
              "\n",
              "  <div class=\"colab-df-container\">\n",
              "    <button class=\"colab-df-convert\" onclick=\"convertToInteractive('df-6150a221-7fe3-4816-b803-5baa43f58669')\"\n",
              "            title=\"Convert this dataframe to an interactive table.\"\n",
              "            style=\"display:none;\">\n",
              "\n",
              "  <svg xmlns=\"http://www.w3.org/2000/svg\" height=\"24px\" viewBox=\"0 -960 960 960\">\n",
              "    <path d=\"M120-120v-720h720v720H120Zm60-500h600v-160H180v160Zm220 220h160v-160H400v160Zm0 220h160v-160H400v160ZM180-400h160v-160H180v160Zm440 0h160v-160H620v160ZM180-180h160v-160H180v160Zm440 0h160v-160H620v160Z\"/>\n",
              "  </svg>\n",
              "    </button>\n",
              "\n",
              "  <style>\n",
              "    .colab-df-container {\n",
              "      display:flex;\n",
              "      gap: 12px;\n",
              "    }\n",
              "\n",
              "    .colab-df-convert {\n",
              "      background-color: #E8F0FE;\n",
              "      border: none;\n",
              "      border-radius: 50%;\n",
              "      cursor: pointer;\n",
              "      display: none;\n",
              "      fill: #1967D2;\n",
              "      height: 32px;\n",
              "      padding: 0 0 0 0;\n",
              "      width: 32px;\n",
              "    }\n",
              "\n",
              "    .colab-df-convert:hover {\n",
              "      background-color: #E2EBFA;\n",
              "      box-shadow: 0px 1px 2px rgba(60, 64, 67, 0.3), 0px 1px 3px 1px rgba(60, 64, 67, 0.15);\n",
              "      fill: #174EA6;\n",
              "    }\n",
              "\n",
              "    .colab-df-buttons div {\n",
              "      margin-bottom: 4px;\n",
              "    }\n",
              "\n",
              "    [theme=dark] .colab-df-convert {\n",
              "      background-color: #3B4455;\n",
              "      fill: #D2E3FC;\n",
              "    }\n",
              "\n",
              "    [theme=dark] .colab-df-convert:hover {\n",
              "      background-color: #434B5C;\n",
              "      box-shadow: 0px 1px 3px 1px rgba(0, 0, 0, 0.15);\n",
              "      filter: drop-shadow(0px 1px 2px rgba(0, 0, 0, 0.3));\n",
              "      fill: #FFFFFF;\n",
              "    }\n",
              "  </style>\n",
              "\n",
              "    <script>\n",
              "      const buttonEl =\n",
              "        document.querySelector('#df-6150a221-7fe3-4816-b803-5baa43f58669 button.colab-df-convert');\n",
              "      buttonEl.style.display =\n",
              "        google.colab.kernel.accessAllowed ? 'block' : 'none';\n",
              "\n",
              "      async function convertToInteractive(key) {\n",
              "        const element = document.querySelector('#df-6150a221-7fe3-4816-b803-5baa43f58669');\n",
              "        const dataTable =\n",
              "          await google.colab.kernel.invokeFunction('convertToInteractive',\n",
              "                                                    [key], {});\n",
              "        if (!dataTable) return;\n",
              "\n",
              "        const docLinkHtml = 'Like what you see? Visit the ' +\n",
              "          '<a target=\"_blank\" href=https://colab.research.google.com/notebooks/data_table.ipynb>data table notebook</a>'\n",
              "          + ' to learn more about interactive tables.';\n",
              "        element.innerHTML = '';\n",
              "        dataTable['output_type'] = 'display_data';\n",
              "        await google.colab.output.renderOutput(dataTable, element);\n",
              "        const docLink = document.createElement('div');\n",
              "        docLink.innerHTML = docLinkHtml;\n",
              "        element.appendChild(docLink);\n",
              "      }\n",
              "    </script>\n",
              "  </div>\n",
              "\n",
              "\n",
              "<div id=\"df-aa45abb4-295e-4182-9dc2-abae6814db98\">\n",
              "  <button class=\"colab-df-quickchart\" onclick=\"quickchart('df-aa45abb4-295e-4182-9dc2-abae6814db98')\"\n",
              "            title=\"Suggest charts\"\n",
              "            style=\"display:none;\">\n",
              "\n",
              "<svg xmlns=\"http://www.w3.org/2000/svg\" height=\"24px\"viewBox=\"0 0 24 24\"\n",
              "     width=\"24px\">\n",
              "    <g>\n",
              "        <path d=\"M19 3H5c-1.1 0-2 .9-2 2v14c0 1.1.9 2 2 2h14c1.1 0 2-.9 2-2V5c0-1.1-.9-2-2-2zM9 17H7v-7h2v7zm4 0h-2V7h2v10zm4 0h-2v-4h2v4z\"/>\n",
              "    </g>\n",
              "</svg>\n",
              "  </button>\n",
              "\n",
              "<style>\n",
              "  .colab-df-quickchart {\n",
              "      --bg-color: #E8F0FE;\n",
              "      --fill-color: #1967D2;\n",
              "      --hover-bg-color: #E2EBFA;\n",
              "      --hover-fill-color: #174EA6;\n",
              "      --disabled-fill-color: #AAA;\n",
              "      --disabled-bg-color: #DDD;\n",
              "  }\n",
              "\n",
              "  [theme=dark] .colab-df-quickchart {\n",
              "      --bg-color: #3B4455;\n",
              "      --fill-color: #D2E3FC;\n",
              "      --hover-bg-color: #434B5C;\n",
              "      --hover-fill-color: #FFFFFF;\n",
              "      --disabled-bg-color: #3B4455;\n",
              "      --disabled-fill-color: #666;\n",
              "  }\n",
              "\n",
              "  .colab-df-quickchart {\n",
              "    background-color: var(--bg-color);\n",
              "    border: none;\n",
              "    border-radius: 50%;\n",
              "    cursor: pointer;\n",
              "    display: none;\n",
              "    fill: var(--fill-color);\n",
              "    height: 32px;\n",
              "    padding: 0;\n",
              "    width: 32px;\n",
              "  }\n",
              "\n",
              "  .colab-df-quickchart:hover {\n",
              "    background-color: var(--hover-bg-color);\n",
              "    box-shadow: 0 1px 2px rgba(60, 64, 67, 0.3), 0 1px 3px 1px rgba(60, 64, 67, 0.15);\n",
              "    fill: var(--button-hover-fill-color);\n",
              "  }\n",
              "\n",
              "  .colab-df-quickchart-complete:disabled,\n",
              "  .colab-df-quickchart-complete:disabled:hover {\n",
              "    background-color: var(--disabled-bg-color);\n",
              "    fill: var(--disabled-fill-color);\n",
              "    box-shadow: none;\n",
              "  }\n",
              "\n",
              "  .colab-df-spinner {\n",
              "    border: 2px solid var(--fill-color);\n",
              "    border-color: transparent;\n",
              "    border-bottom-color: var(--fill-color);\n",
              "    animation:\n",
              "      spin 1s steps(1) infinite;\n",
              "  }\n",
              "\n",
              "  @keyframes spin {\n",
              "    0% {\n",
              "      border-color: transparent;\n",
              "      border-bottom-color: var(--fill-color);\n",
              "      border-left-color: var(--fill-color);\n",
              "    }\n",
              "    20% {\n",
              "      border-color: transparent;\n",
              "      border-left-color: var(--fill-color);\n",
              "      border-top-color: var(--fill-color);\n",
              "    }\n",
              "    30% {\n",
              "      border-color: transparent;\n",
              "      border-left-color: var(--fill-color);\n",
              "      border-top-color: var(--fill-color);\n",
              "      border-right-color: var(--fill-color);\n",
              "    }\n",
              "    40% {\n",
              "      border-color: transparent;\n",
              "      border-right-color: var(--fill-color);\n",
              "      border-top-color: var(--fill-color);\n",
              "    }\n",
              "    60% {\n",
              "      border-color: transparent;\n",
              "      border-right-color: var(--fill-color);\n",
              "    }\n",
              "    80% {\n",
              "      border-color: transparent;\n",
              "      border-right-color: var(--fill-color);\n",
              "      border-bottom-color: var(--fill-color);\n",
              "    }\n",
              "    90% {\n",
              "      border-color: transparent;\n",
              "      border-bottom-color: var(--fill-color);\n",
              "    }\n",
              "  }\n",
              "</style>\n",
              "\n",
              "  <script>\n",
              "    async function quickchart(key) {\n",
              "      const quickchartButtonEl =\n",
              "        document.querySelector('#' + key + ' button');\n",
              "      quickchartButtonEl.disabled = true;  // To prevent multiple clicks.\n",
              "      quickchartButtonEl.classList.add('colab-df-spinner');\n",
              "      try {\n",
              "        const charts = await google.colab.kernel.invokeFunction(\n",
              "            'suggestCharts', [key], {});\n",
              "      } catch (error) {\n",
              "        console.error('Error during call to suggestCharts:', error);\n",
              "      }\n",
              "      quickchartButtonEl.classList.remove('colab-df-spinner');\n",
              "      quickchartButtonEl.classList.add('colab-df-quickchart-complete');\n",
              "    }\n",
              "    (() => {\n",
              "      let quickchartButtonEl =\n",
              "        document.querySelector('#df-aa45abb4-295e-4182-9dc2-abae6814db98 button');\n",
              "      quickchartButtonEl.style.display =\n",
              "        google.colab.kernel.accessAllowed ? 'block' : 'none';\n",
              "    })();\n",
              "  </script>\n",
              "</div>\n",
              "\n",
              "  <div id=\"id_cc1c97ff-0fed-4696-9f53-af1256f600bd\">\n",
              "    <style>\n",
              "      .colab-df-generate {\n",
              "        background-color: #E8F0FE;\n",
              "        border: none;\n",
              "        border-radius: 50%;\n",
              "        cursor: pointer;\n",
              "        display: none;\n",
              "        fill: #1967D2;\n",
              "        height: 32px;\n",
              "        padding: 0 0 0 0;\n",
              "        width: 32px;\n",
              "      }\n",
              "\n",
              "      .colab-df-generate:hover {\n",
              "        background-color: #E2EBFA;\n",
              "        box-shadow: 0px 1px 2px rgba(60, 64, 67, 0.3), 0px 1px 3px 1px rgba(60, 64, 67, 0.15);\n",
              "        fill: #174EA6;\n",
              "      }\n",
              "\n",
              "      [theme=dark] .colab-df-generate {\n",
              "        background-color: #3B4455;\n",
              "        fill: #D2E3FC;\n",
              "      }\n",
              "\n",
              "      [theme=dark] .colab-df-generate:hover {\n",
              "        background-color: #434B5C;\n",
              "        box-shadow: 0px 1px 3px 1px rgba(0, 0, 0, 0.15);\n",
              "        filter: drop-shadow(0px 1px 2px rgba(0, 0, 0, 0.3));\n",
              "        fill: #FFFFFF;\n",
              "      }\n",
              "    </style>\n",
              "    <button class=\"colab-df-generate\" onclick=\"generateWithVariable('data')\"\n",
              "            title=\"Generate code using this dataframe.\"\n",
              "            style=\"display:none;\">\n",
              "\n",
              "  <svg xmlns=\"http://www.w3.org/2000/svg\" height=\"24px\"viewBox=\"0 0 24 24\"\n",
              "       width=\"24px\">\n",
              "    <path d=\"M7,19H8.4L18.45,9,17,7.55,7,17.6ZM5,21V16.75L18.45,3.32a2,2,0,0,1,2.83,0l1.4,1.43a1.91,1.91,0,0,1,.58,1.4,1.91,1.91,0,0,1-.58,1.4L9.25,21ZM18.45,9,17,7.55Zm-12,3A5.31,5.31,0,0,0,4.9,8.1,5.31,5.31,0,0,0,1,6.5,5.31,5.31,0,0,0,4.9,4.9,5.31,5.31,0,0,0,6.5,1,5.31,5.31,0,0,0,8.1,4.9,5.31,5.31,0,0,0,12,6.5,5.46,5.46,0,0,0,6.5,12Z\"/>\n",
              "  </svg>\n",
              "    </button>\n",
              "    <script>\n",
              "      (() => {\n",
              "      const buttonEl =\n",
              "        document.querySelector('#id_cc1c97ff-0fed-4696-9f53-af1256f600bd button.colab-df-generate');\n",
              "      buttonEl.style.display =\n",
              "        google.colab.kernel.accessAllowed ? 'block' : 'none';\n",
              "\n",
              "      buttonEl.onclick = () => {\n",
              "        google.colab.notebook.generateWithVariable('data');\n",
              "      }\n",
              "      })();\n",
              "    </script>\n",
              "  </div>\n",
              "\n",
              "    </div>\n",
              "  </div>\n"
            ],
            "application/vnd.google.colaboratory.intrinsic+json": {
              "type": "dataframe",
              "variable_name": "data"
            }
          },
          "metadata": {},
          "execution_count": 6
        }
      ]
    },
    {
      "cell_type": "code",
      "source": [
        "data.describe()"
      ],
      "metadata": {
        "colab": {
          "base_uri": "https://localhost:8080/",
          "height": 349
        },
        "id": "JL4WYhUTwLJo",
        "outputId": "f11ae1e5-a559-4a6d-8f9b-48bbbc12bd73"
      },
      "execution_count": null,
      "outputs": [
        {
          "output_type": "execute_result",
          "data": {
            "text/plain": [
              "               Time            V1            V2            V3            V4  \\\n",
              "count  79318.000000  79318.000000  79318.000000  79318.000000  79318.000000   \n",
              "mean   37153.438249     -0.257426     -0.035576      0.678119      0.164591   \n",
              "std    15151.789910      1.890179      1.681418      1.388884      1.369498   \n",
              "min        0.000000    -56.407510    -72.715728    -33.680984     -5.172595   \n",
              "25%    30583.500000     -1.018001     -0.599132      0.187124     -0.724773   \n",
              "50%    39915.500000     -0.249380      0.069290      0.764923      0.183706   \n",
              "75%    48863.000000      1.153594      0.722599      1.394720      1.045422   \n",
              "max    57967.000000      1.960497     18.902453      4.226108     16.715537   \n",
              "\n",
              "                 V5            V6            V7            V8            V9  \\\n",
              "count  79318.000000  79318.000000  79318.000000  79318.000000  79318.000000   \n",
              "mean      -0.275998      0.095774     -0.114545      0.053468     -0.007344   \n",
              "std        1.384464      1.305428      1.249211      1.234847      1.145285   \n",
              "min      -42.147898    -26.160506    -31.764946    -73.216718     -9.283925   \n",
              "25%       -0.894735     -0.642179     -0.604487     -0.141071     -0.684907   \n",
              "50%       -0.308987     -0.153593     -0.073958      0.069131     -0.087263   \n",
              "75%        0.259201      0.490147      0.416184      0.349133      0.627928   \n",
              "max       34.801666     22.529298     36.677268     20.007208     10.392889   \n",
              "\n",
              "       ...           V21           V22           V23           V24  \\\n",
              "count  ...  79317.000000  79317.000000  79317.000000  79317.000000   \n",
              "mean   ...     -0.028990     -0.105797     -0.037871      0.007637   \n",
              "std    ...      0.740237      0.636321      0.629529      0.595742   \n",
              "min    ...    -34.830382    -10.933144    -26.751119     -2.836627   \n",
              "25%    ...     -0.224304     -0.524347     -0.178349     -0.323412   \n",
              "50%    ...     -0.058679     -0.080550     -0.050441      0.063991   \n",
              "75%    ...      0.117433      0.309236      0.080476      0.405157   \n",
              "max    ...     22.614889     10.503090     18.946734      4.014444   \n",
              "\n",
              "                V25           V26           V27           V28        Amount  \\\n",
              "count  79317.000000  79317.000000  79317.000000  79317.000000  79317.000000   \n",
              "mean       0.134631      0.026317      0.002125      0.002664     97.766923   \n",
              "std        0.440672      0.498252      0.390983      0.331492    269.644636   \n",
              "min       -7.495741     -2.534330     -9.390980     -9.617915      0.000000   \n",
              "25%       -0.129002     -0.326882     -0.063297     -0.005828      7.680000   \n",
              "50%        0.172875     -0.072550      0.009300      0.022860     26.900000   \n",
              "75%        0.421703      0.307988      0.082442      0.075999     89.150000   \n",
              "max        5.525093      3.517346     12.152401     33.847808  19656.530000   \n",
              "\n",
              "              Class  \n",
              "count  79317.000000  \n",
              "mean       0.002408  \n",
              "std        0.049013  \n",
              "min        0.000000  \n",
              "25%        0.000000  \n",
              "50%        0.000000  \n",
              "75%        0.000000  \n",
              "max        1.000000  \n",
              "\n",
              "[8 rows x 31 columns]"
            ],
            "text/html": [
              "\n",
              "  <div id=\"df-200bef8c-ba3f-498f-85f1-b6d5a6b82629\" class=\"colab-df-container\">\n",
              "    <div>\n",
              "<style scoped>\n",
              "    .dataframe tbody tr th:only-of-type {\n",
              "        vertical-align: middle;\n",
              "    }\n",
              "\n",
              "    .dataframe tbody tr th {\n",
              "        vertical-align: top;\n",
              "    }\n",
              "\n",
              "    .dataframe thead th {\n",
              "        text-align: right;\n",
              "    }\n",
              "</style>\n",
              "<table border=\"1\" class=\"dataframe\">\n",
              "  <thead>\n",
              "    <tr style=\"text-align: right;\">\n",
              "      <th></th>\n",
              "      <th>Time</th>\n",
              "      <th>V1</th>\n",
              "      <th>V2</th>\n",
              "      <th>V3</th>\n",
              "      <th>V4</th>\n",
              "      <th>V5</th>\n",
              "      <th>V6</th>\n",
              "      <th>V7</th>\n",
              "      <th>V8</th>\n",
              "      <th>V9</th>\n",
              "      <th>...</th>\n",
              "      <th>V21</th>\n",
              "      <th>V22</th>\n",
              "      <th>V23</th>\n",
              "      <th>V24</th>\n",
              "      <th>V25</th>\n",
              "      <th>V26</th>\n",
              "      <th>V27</th>\n",
              "      <th>V28</th>\n",
              "      <th>Amount</th>\n",
              "      <th>Class</th>\n",
              "    </tr>\n",
              "  </thead>\n",
              "  <tbody>\n",
              "    <tr>\n",
              "      <th>count</th>\n",
              "      <td>79318.000000</td>\n",
              "      <td>79318.000000</td>\n",
              "      <td>79318.000000</td>\n",
              "      <td>79318.000000</td>\n",
              "      <td>79318.000000</td>\n",
              "      <td>79318.000000</td>\n",
              "      <td>79318.000000</td>\n",
              "      <td>79318.000000</td>\n",
              "      <td>79318.000000</td>\n",
              "      <td>79318.000000</td>\n",
              "      <td>...</td>\n",
              "      <td>79317.000000</td>\n",
              "      <td>79317.000000</td>\n",
              "      <td>79317.000000</td>\n",
              "      <td>79317.000000</td>\n",
              "      <td>79317.000000</td>\n",
              "      <td>79317.000000</td>\n",
              "      <td>79317.000000</td>\n",
              "      <td>79317.000000</td>\n",
              "      <td>79317.000000</td>\n",
              "      <td>79317.000000</td>\n",
              "    </tr>\n",
              "    <tr>\n",
              "      <th>mean</th>\n",
              "      <td>37153.438249</td>\n",
              "      <td>-0.257426</td>\n",
              "      <td>-0.035576</td>\n",
              "      <td>0.678119</td>\n",
              "      <td>0.164591</td>\n",
              "      <td>-0.275998</td>\n",
              "      <td>0.095774</td>\n",
              "      <td>-0.114545</td>\n",
              "      <td>0.053468</td>\n",
              "      <td>-0.007344</td>\n",
              "      <td>...</td>\n",
              "      <td>-0.028990</td>\n",
              "      <td>-0.105797</td>\n",
              "      <td>-0.037871</td>\n",
              "      <td>0.007637</td>\n",
              "      <td>0.134631</td>\n",
              "      <td>0.026317</td>\n",
              "      <td>0.002125</td>\n",
              "      <td>0.002664</td>\n",
              "      <td>97.766923</td>\n",
              "      <td>0.002408</td>\n",
              "    </tr>\n",
              "    <tr>\n",
              "      <th>std</th>\n",
              "      <td>15151.789910</td>\n",
              "      <td>1.890179</td>\n",
              "      <td>1.681418</td>\n",
              "      <td>1.388884</td>\n",
              "      <td>1.369498</td>\n",
              "      <td>1.384464</td>\n",
              "      <td>1.305428</td>\n",
              "      <td>1.249211</td>\n",
              "      <td>1.234847</td>\n",
              "      <td>1.145285</td>\n",
              "      <td>...</td>\n",
              "      <td>0.740237</td>\n",
              "      <td>0.636321</td>\n",
              "      <td>0.629529</td>\n",
              "      <td>0.595742</td>\n",
              "      <td>0.440672</td>\n",
              "      <td>0.498252</td>\n",
              "      <td>0.390983</td>\n",
              "      <td>0.331492</td>\n",
              "      <td>269.644636</td>\n",
              "      <td>0.049013</td>\n",
              "    </tr>\n",
              "    <tr>\n",
              "      <th>min</th>\n",
              "      <td>0.000000</td>\n",
              "      <td>-56.407510</td>\n",
              "      <td>-72.715728</td>\n",
              "      <td>-33.680984</td>\n",
              "      <td>-5.172595</td>\n",
              "      <td>-42.147898</td>\n",
              "      <td>-26.160506</td>\n",
              "      <td>-31.764946</td>\n",
              "      <td>-73.216718</td>\n",
              "      <td>-9.283925</td>\n",
              "      <td>...</td>\n",
              "      <td>-34.830382</td>\n",
              "      <td>-10.933144</td>\n",
              "      <td>-26.751119</td>\n",
              "      <td>-2.836627</td>\n",
              "      <td>-7.495741</td>\n",
              "      <td>-2.534330</td>\n",
              "      <td>-9.390980</td>\n",
              "      <td>-9.617915</td>\n",
              "      <td>0.000000</td>\n",
              "      <td>0.000000</td>\n",
              "    </tr>\n",
              "    <tr>\n",
              "      <th>25%</th>\n",
              "      <td>30583.500000</td>\n",
              "      <td>-1.018001</td>\n",
              "      <td>-0.599132</td>\n",
              "      <td>0.187124</td>\n",
              "      <td>-0.724773</td>\n",
              "      <td>-0.894735</td>\n",
              "      <td>-0.642179</td>\n",
              "      <td>-0.604487</td>\n",
              "      <td>-0.141071</td>\n",
              "      <td>-0.684907</td>\n",
              "      <td>...</td>\n",
              "      <td>-0.224304</td>\n",
              "      <td>-0.524347</td>\n",
              "      <td>-0.178349</td>\n",
              "      <td>-0.323412</td>\n",
              "      <td>-0.129002</td>\n",
              "      <td>-0.326882</td>\n",
              "      <td>-0.063297</td>\n",
              "      <td>-0.005828</td>\n",
              "      <td>7.680000</td>\n",
              "      <td>0.000000</td>\n",
              "    </tr>\n",
              "    <tr>\n",
              "      <th>50%</th>\n",
              "      <td>39915.500000</td>\n",
              "      <td>-0.249380</td>\n",
              "      <td>0.069290</td>\n",
              "      <td>0.764923</td>\n",
              "      <td>0.183706</td>\n",
              "      <td>-0.308987</td>\n",
              "      <td>-0.153593</td>\n",
              "      <td>-0.073958</td>\n",
              "      <td>0.069131</td>\n",
              "      <td>-0.087263</td>\n",
              "      <td>...</td>\n",
              "      <td>-0.058679</td>\n",
              "      <td>-0.080550</td>\n",
              "      <td>-0.050441</td>\n",
              "      <td>0.063991</td>\n",
              "      <td>0.172875</td>\n",
              "      <td>-0.072550</td>\n",
              "      <td>0.009300</td>\n",
              "      <td>0.022860</td>\n",
              "      <td>26.900000</td>\n",
              "      <td>0.000000</td>\n",
              "    </tr>\n",
              "    <tr>\n",
              "      <th>75%</th>\n",
              "      <td>48863.000000</td>\n",
              "      <td>1.153594</td>\n",
              "      <td>0.722599</td>\n",
              "      <td>1.394720</td>\n",
              "      <td>1.045422</td>\n",
              "      <td>0.259201</td>\n",
              "      <td>0.490147</td>\n",
              "      <td>0.416184</td>\n",
              "      <td>0.349133</td>\n",
              "      <td>0.627928</td>\n",
              "      <td>...</td>\n",
              "      <td>0.117433</td>\n",
              "      <td>0.309236</td>\n",
              "      <td>0.080476</td>\n",
              "      <td>0.405157</td>\n",
              "      <td>0.421703</td>\n",
              "      <td>0.307988</td>\n",
              "      <td>0.082442</td>\n",
              "      <td>0.075999</td>\n",
              "      <td>89.150000</td>\n",
              "      <td>0.000000</td>\n",
              "    </tr>\n",
              "    <tr>\n",
              "      <th>max</th>\n",
              "      <td>57967.000000</td>\n",
              "      <td>1.960497</td>\n",
              "      <td>18.902453</td>\n",
              "      <td>4.226108</td>\n",
              "      <td>16.715537</td>\n",
              "      <td>34.801666</td>\n",
              "      <td>22.529298</td>\n",
              "      <td>36.677268</td>\n",
              "      <td>20.007208</td>\n",
              "      <td>10.392889</td>\n",
              "      <td>...</td>\n",
              "      <td>22.614889</td>\n",
              "      <td>10.503090</td>\n",
              "      <td>18.946734</td>\n",
              "      <td>4.014444</td>\n",
              "      <td>5.525093</td>\n",
              "      <td>3.517346</td>\n",
              "      <td>12.152401</td>\n",
              "      <td>33.847808</td>\n",
              "      <td>19656.530000</td>\n",
              "      <td>1.000000</td>\n",
              "    </tr>\n",
              "  </tbody>\n",
              "</table>\n",
              "<p>8 rows × 31 columns</p>\n",
              "</div>\n",
              "    <div class=\"colab-df-buttons\">\n",
              "\n",
              "  <div class=\"colab-df-container\">\n",
              "    <button class=\"colab-df-convert\" onclick=\"convertToInteractive('df-200bef8c-ba3f-498f-85f1-b6d5a6b82629')\"\n",
              "            title=\"Convert this dataframe to an interactive table.\"\n",
              "            style=\"display:none;\">\n",
              "\n",
              "  <svg xmlns=\"http://www.w3.org/2000/svg\" height=\"24px\" viewBox=\"0 -960 960 960\">\n",
              "    <path d=\"M120-120v-720h720v720H120Zm60-500h600v-160H180v160Zm220 220h160v-160H400v160Zm0 220h160v-160H400v160ZM180-400h160v-160H180v160Zm440 0h160v-160H620v160ZM180-180h160v-160H180v160Zm440 0h160v-160H620v160Z\"/>\n",
              "  </svg>\n",
              "    </button>\n",
              "\n",
              "  <style>\n",
              "    .colab-df-container {\n",
              "      display:flex;\n",
              "      gap: 12px;\n",
              "    }\n",
              "\n",
              "    .colab-df-convert {\n",
              "      background-color: #E8F0FE;\n",
              "      border: none;\n",
              "      border-radius: 50%;\n",
              "      cursor: pointer;\n",
              "      display: none;\n",
              "      fill: #1967D2;\n",
              "      height: 32px;\n",
              "      padding: 0 0 0 0;\n",
              "      width: 32px;\n",
              "    }\n",
              "\n",
              "    .colab-df-convert:hover {\n",
              "      background-color: #E2EBFA;\n",
              "      box-shadow: 0px 1px 2px rgba(60, 64, 67, 0.3), 0px 1px 3px 1px rgba(60, 64, 67, 0.15);\n",
              "      fill: #174EA6;\n",
              "    }\n",
              "\n",
              "    .colab-df-buttons div {\n",
              "      margin-bottom: 4px;\n",
              "    }\n",
              "\n",
              "    [theme=dark] .colab-df-convert {\n",
              "      background-color: #3B4455;\n",
              "      fill: #D2E3FC;\n",
              "    }\n",
              "\n",
              "    [theme=dark] .colab-df-convert:hover {\n",
              "      background-color: #434B5C;\n",
              "      box-shadow: 0px 1px 3px 1px rgba(0, 0, 0, 0.15);\n",
              "      filter: drop-shadow(0px 1px 2px rgba(0, 0, 0, 0.3));\n",
              "      fill: #FFFFFF;\n",
              "    }\n",
              "  </style>\n",
              "\n",
              "    <script>\n",
              "      const buttonEl =\n",
              "        document.querySelector('#df-200bef8c-ba3f-498f-85f1-b6d5a6b82629 button.colab-df-convert');\n",
              "      buttonEl.style.display =\n",
              "        google.colab.kernel.accessAllowed ? 'block' : 'none';\n",
              "\n",
              "      async function convertToInteractive(key) {\n",
              "        const element = document.querySelector('#df-200bef8c-ba3f-498f-85f1-b6d5a6b82629');\n",
              "        const dataTable =\n",
              "          await google.colab.kernel.invokeFunction('convertToInteractive',\n",
              "                                                    [key], {});\n",
              "        if (!dataTable) return;\n",
              "\n",
              "        const docLinkHtml = 'Like what you see? Visit the ' +\n",
              "          '<a target=\"_blank\" href=https://colab.research.google.com/notebooks/data_table.ipynb>data table notebook</a>'\n",
              "          + ' to learn more about interactive tables.';\n",
              "        element.innerHTML = '';\n",
              "        dataTable['output_type'] = 'display_data';\n",
              "        await google.colab.output.renderOutput(dataTable, element);\n",
              "        const docLink = document.createElement('div');\n",
              "        docLink.innerHTML = docLinkHtml;\n",
              "        element.appendChild(docLink);\n",
              "      }\n",
              "    </script>\n",
              "  </div>\n",
              "\n",
              "\n",
              "<div id=\"df-961884ad-af23-4a8a-bd2c-bd6ea7936aeb\">\n",
              "  <button class=\"colab-df-quickchart\" onclick=\"quickchart('df-961884ad-af23-4a8a-bd2c-bd6ea7936aeb')\"\n",
              "            title=\"Suggest charts\"\n",
              "            style=\"display:none;\">\n",
              "\n",
              "<svg xmlns=\"http://www.w3.org/2000/svg\" height=\"24px\"viewBox=\"0 0 24 24\"\n",
              "     width=\"24px\">\n",
              "    <g>\n",
              "        <path d=\"M19 3H5c-1.1 0-2 .9-2 2v14c0 1.1.9 2 2 2h14c1.1 0 2-.9 2-2V5c0-1.1-.9-2-2-2zM9 17H7v-7h2v7zm4 0h-2V7h2v10zm4 0h-2v-4h2v4z\"/>\n",
              "    </g>\n",
              "</svg>\n",
              "  </button>\n",
              "\n",
              "<style>\n",
              "  .colab-df-quickchart {\n",
              "      --bg-color: #E8F0FE;\n",
              "      --fill-color: #1967D2;\n",
              "      --hover-bg-color: #E2EBFA;\n",
              "      --hover-fill-color: #174EA6;\n",
              "      --disabled-fill-color: #AAA;\n",
              "      --disabled-bg-color: #DDD;\n",
              "  }\n",
              "\n",
              "  [theme=dark] .colab-df-quickchart {\n",
              "      --bg-color: #3B4455;\n",
              "      --fill-color: #D2E3FC;\n",
              "      --hover-bg-color: #434B5C;\n",
              "      --hover-fill-color: #FFFFFF;\n",
              "      --disabled-bg-color: #3B4455;\n",
              "      --disabled-fill-color: #666;\n",
              "  }\n",
              "\n",
              "  .colab-df-quickchart {\n",
              "    background-color: var(--bg-color);\n",
              "    border: none;\n",
              "    border-radius: 50%;\n",
              "    cursor: pointer;\n",
              "    display: none;\n",
              "    fill: var(--fill-color);\n",
              "    height: 32px;\n",
              "    padding: 0;\n",
              "    width: 32px;\n",
              "  }\n",
              "\n",
              "  .colab-df-quickchart:hover {\n",
              "    background-color: var(--hover-bg-color);\n",
              "    box-shadow: 0 1px 2px rgba(60, 64, 67, 0.3), 0 1px 3px 1px rgba(60, 64, 67, 0.15);\n",
              "    fill: var(--button-hover-fill-color);\n",
              "  }\n",
              "\n",
              "  .colab-df-quickchart-complete:disabled,\n",
              "  .colab-df-quickchart-complete:disabled:hover {\n",
              "    background-color: var(--disabled-bg-color);\n",
              "    fill: var(--disabled-fill-color);\n",
              "    box-shadow: none;\n",
              "  }\n",
              "\n",
              "  .colab-df-spinner {\n",
              "    border: 2px solid var(--fill-color);\n",
              "    border-color: transparent;\n",
              "    border-bottom-color: var(--fill-color);\n",
              "    animation:\n",
              "      spin 1s steps(1) infinite;\n",
              "  }\n",
              "\n",
              "  @keyframes spin {\n",
              "    0% {\n",
              "      border-color: transparent;\n",
              "      border-bottom-color: var(--fill-color);\n",
              "      border-left-color: var(--fill-color);\n",
              "    }\n",
              "    20% {\n",
              "      border-color: transparent;\n",
              "      border-left-color: var(--fill-color);\n",
              "      border-top-color: var(--fill-color);\n",
              "    }\n",
              "    30% {\n",
              "      border-color: transparent;\n",
              "      border-left-color: var(--fill-color);\n",
              "      border-top-color: var(--fill-color);\n",
              "      border-right-color: var(--fill-color);\n",
              "    }\n",
              "    40% {\n",
              "      border-color: transparent;\n",
              "      border-right-color: var(--fill-color);\n",
              "      border-top-color: var(--fill-color);\n",
              "    }\n",
              "    60% {\n",
              "      border-color: transparent;\n",
              "      border-right-color: var(--fill-color);\n",
              "    }\n",
              "    80% {\n",
              "      border-color: transparent;\n",
              "      border-right-color: var(--fill-color);\n",
              "      border-bottom-color: var(--fill-color);\n",
              "    }\n",
              "    90% {\n",
              "      border-color: transparent;\n",
              "      border-bottom-color: var(--fill-color);\n",
              "    }\n",
              "  }\n",
              "</style>\n",
              "\n",
              "  <script>\n",
              "    async function quickchart(key) {\n",
              "      const quickchartButtonEl =\n",
              "        document.querySelector('#' + key + ' button');\n",
              "      quickchartButtonEl.disabled = true;  // To prevent multiple clicks.\n",
              "      quickchartButtonEl.classList.add('colab-df-spinner');\n",
              "      try {\n",
              "        const charts = await google.colab.kernel.invokeFunction(\n",
              "            'suggestCharts', [key], {});\n",
              "      } catch (error) {\n",
              "        console.error('Error during call to suggestCharts:', error);\n",
              "      }\n",
              "      quickchartButtonEl.classList.remove('colab-df-spinner');\n",
              "      quickchartButtonEl.classList.add('colab-df-quickchart-complete');\n",
              "    }\n",
              "    (() => {\n",
              "      let quickchartButtonEl =\n",
              "        document.querySelector('#df-961884ad-af23-4a8a-bd2c-bd6ea7936aeb button');\n",
              "      quickchartButtonEl.style.display =\n",
              "        google.colab.kernel.accessAllowed ? 'block' : 'none';\n",
              "    })();\n",
              "  </script>\n",
              "</div>\n",
              "\n",
              "    </div>\n",
              "  </div>\n"
            ],
            "application/vnd.google.colaboratory.intrinsic+json": {
              "type": "dataframe"
            }
          },
          "metadata": {},
          "execution_count": 7
        }
      ]
    },
    {
      "cell_type": "code",
      "source": [
        "data.isnull().sum().sum()"
      ],
      "metadata": {
        "colab": {
          "base_uri": "https://localhost:8080/"
        },
        "id": "VihlXYrrwU6h",
        "outputId": "130a7770-f8da-416f-8f1d-75a1f82b617e"
      },
      "execution_count": null,
      "outputs": [
        {
          "output_type": "execute_result",
          "data": {
            "text/plain": [
              "20"
            ]
          },
          "metadata": {},
          "execution_count": 8
        }
      ]
    },
    {
      "cell_type": "code",
      "source": [
        "print('No Frauds', round(data['Class'].value_counts()[0]/len(data) * 100,2), '% of the dataset')\n",
        "print('Frauds', round(data['Class'].value_counts()[1]/len(data) * 100,2), '% of the dataset')"
      ],
      "metadata": {
        "colab": {
          "base_uri": "https://localhost:8080/"
        },
        "id": "zHo29JU6w3Ig",
        "outputId": "2aea3c65-ce5c-4572-e728-71064f282768"
      },
      "execution_count": null,
      "outputs": [
        {
          "output_type": "stream",
          "name": "stdout",
          "text": [
            "No Frauds 99.76 % of the dataset\n",
            "Frauds 0.24 % of the dataset\n"
          ]
        }
      ]
    },
    {
      "cell_type": "code",
      "source": [
        "sns.countplot(x='Class',data = data)\n",
        "plt.title('Class Distributions \\n (0: No Fraud || 1: Fraud)', fontsize=14)"
      ],
      "metadata": {
        "colab": {
          "base_uri": "https://localhost:8080/",
          "height": 512
        },
        "id": "QswAyS62w6RR",
        "outputId": "c6c491b7-5b3f-47cd-cb78-27804099973c"
      },
      "execution_count": null,
      "outputs": [
        {
          "output_type": "execute_result",
          "data": {
            "text/plain": [
              "Text(0.5, 1.0, 'Class Distributions \\n (0: No Fraud || 1: Fraud)')"
            ]
          },
          "metadata": {},
          "execution_count": 10
        },
        {
          "output_type": "display_data",
          "data": {
            "text/plain": [
              "<Figure size 640x480 with 1 Axes>"
            ],
            "image/png": "[encoded data removed]"
          },
          "metadata": {}
        }
      ]
    },
    {
      "cell_type": "code",
      "source": [
        "tmp = data[['Amount','Class']].copy()\n",
        "class_0 = tmp.loc[tmp['Class'] == 0]['Amount']\n",
        "class_1 = tmp.loc[tmp['Class'] == 1]['Amount']"
      ],
      "metadata": {
        "id": "Qk8S9Nolw976"
      },
      "execution_count": null,
      "outputs": []
    },
    {
      "cell_type": "code",
      "source": [
        "class_0.describe()"
      ],
      "metadata": {
        "colab": {
          "base_uri": "https://localhost:8080/"
        },
        "id": "y0DmPynGxAnS",
        "outputId": "7017aebe-8442-4270-fabd-f9b05938d7e9"
      },
      "execution_count": null,
      "outputs": [
        {
          "output_type": "execute_result",
          "data": {
            "text/plain": [
              "count    79126.000000\n",
              "mean        97.773259\n",
              "std        269.765878\n",
              "min          0.000000\n",
              "25%          7.700000\n",
              "50%         26.925000\n",
              "75%         89.000000\n",
              "max      19656.530000\n",
              "Name: Amount, dtype: float64"
            ]
          },
          "metadata": {},
          "execution_count": 12
        }
      ]
    },
    {
      "cell_type": "code",
      "source": [
        "class_1.describe()"
      ],
      "metadata": {
        "colab": {
          "base_uri": "https://localhost:8080/"
        },
        "id": "ghwisBa-xFCy",
        "outputId": "fe1fe7a6-8ed9-4183-fae3-fdb363c5f329"
      },
      "execution_count": null,
      "outputs": [
        {
          "output_type": "execute_result",
          "data": {
            "text/plain": [
              "count     191.000000\n",
              "mean       95.142251\n",
              "std       214.122813\n",
              "min         0.000000\n",
              "25%         1.000000\n",
              "50%         7.520000\n",
              "75%        99.990000\n",
              "max      1809.680000\n",
              "Name: Amount, dtype: float64"
            ]
          },
          "metadata": {},
          "execution_count": 13
        }
      ]
    },
    {
      "cell_type": "code",
      "source": [
        "# The real transaction have a larger mean value, larger Q1, smaller Q3 and Q4 and larger outliers;\n",
        "# fraudulent transactions have a smaller Q1 and mean, larger Q4 and smaller outliers."
      ],
      "metadata": {
        "id": "-Ey4S9MvxJxb"
      },
      "execution_count": null,
      "outputs": []
    },
    {
      "cell_type": "code",
      "source": [
        "dataplot = sns.heatmap(data.corr(), cmap=\"Blues\")\n",
        "plt.show()"
      ],
      "metadata": {
        "colab": {
          "base_uri": "https://localhost:8080/",
          "height": 458
        },
        "id": "Fkk3GJemxM1n",
        "outputId": "dc05bfcd-f499-4a90-dbbb-4a44f698743f"
      },
      "execution_count": null,
      "outputs": [
        {
          "output_type": "display_data",
          "data": {
            "text/plain": [
              "<Figure size 640x480 with 2 Axes>"
            ],
            "image/png": "[encoded data removed]"
          },
          "metadata": {}
        }
      ]
    },
    {
      "cell_type": "code",
      "source": [
        "X = data.drop(\"Class\", axis=1)\n",
        "y = data['Class']"
      ],
      "metadata": {
        "id": "6iFxkIj_xRMw"
      },
      "execution_count": null,
      "outputs": []
    },
    {
      "cell_type": "code",
      "source": [
        "scaler = MinMaxScaler()\n",
        "X = scaler.fit_transform(X)\n",
        "X"
      ],
      "metadata": {
        "colab": {
          "base_uri": "https://localhost:8080/"
        },
        "id": "MlQepgJfxTyq",
        "outputId": "5b633923-deac-4873-b1f2-477092e147a4"
      },
      "execution_count": null,
      "outputs": [
        {
          "output_type": "execute_result",
          "data": {
            "text/plain": [
              "array([[0.00000000e+00, 9.43114320e-01, 7.92887897e-01, ...,\n",
              "        4.42109723e-01, 2.20791504e-01, 7.61171987e-03],\n",
              "       [0.00000000e+00, 9.86831151e-01, 7.96587293e-01, ...,\n",
              "        4.35493238e-01, 2.21614617e-01, 1.36850197e-04],\n",
              "       [1.72511946e-05, 9.43139215e-01, 7.79054596e-01, ...,\n",
              "        4.33340850e-01, 2.19901175e-01, 1.92638273e-02],\n",
              "       ...,\n",
              "       [9.99982749e-01, 9.52187600e-01, 8.04289154e-01, ...,\n",
              "        4.18107534e-01, 2.16127429e-01, 7.42755715e-04],\n",
              "       [9.99982749e-01, 9.85340277e-01, 7.81221332e-01, ...,\n",
              "        4.37012345e-01, 2.21878779e-01, 5.03649423e-03],\n",
              "       [1.00000000e+00, 9.05407406e-01, 8.31729337e-01, ...,\n",
              "                   nan,            nan,            nan]])"
            ]
          },
          "metadata": {},
          "execution_count": 17
        }
      ]
    },
    {
      "cell_type": "code",
      "source": [
        "import numpy as np\n",
        "\n",
        "print(np.isnan(y).sum())\n"
      ],
      "metadata": {
        "colab": {
          "base_uri": "https://localhost:8080/"
        },
        "id": "LlIEyrXDxYk3",
        "outputId": "c08a6dcc-e773-4003-d757-9786675d3859"
      },
      "execution_count": null,
      "outputs": [
        {
          "output_type": "stream",
          "name": "stdout",
          "text": [
            "1\n"
          ]
        }
      ]
    },
    {
      "cell_type": "code",
      "source": [
        "mask = ~np.isnan(y)\n",
        "X = X[mask]\n",
        "y = y[mask]"
      ],
      "metadata": {
        "id": "I3zy1zaRxdUx"
      },
      "execution_count": null,
      "outputs": []
    },
    {
      "cell_type": "code",
      "source": [
        "from sklearn.model_selection import train_test_split\n",
        "\n",
        "# Perform train-test split without stratification\n",
        "X_train, X_test, y_train, y_test = train_test_split(X, y, random_state=42, test_size=0.2)"
      ],
      "metadata": {
        "id": "0yOKNfpyxgP4"
      },
      "execution_count": null,
      "outputs": []
    },
    {
      "cell_type": "code",
      "source": [
        "import pandas as pd\n",
        "\n",
        "y_train_series = pd.Series(y_train)\n",
        "print(y_train_series.value_counts())\n"
      ],
      "metadata": {
        "colab": {
          "base_uri": "https://localhost:8080/"
        },
        "id": "rlT3IJyPxh44",
        "outputId": "afd821d7-b529-42bc-d155-f0f80f43e0ab"
      },
      "execution_count": null,
      "outputs": [
        {
          "output_type": "stream",
          "name": "stdout",
          "text": [
            "Class\n",
            "0.0    63301\n",
            "1.0      152\n",
            "Name: count, dtype: int64\n"
          ]
        }
      ]
    },
    {
      "cell_type": "code",
      "source": [
        "print(y_train.dtype)"
      ],
      "metadata": {
        "colab": {
          "base_uri": "https://localhost:8080/"
        },
        "id": "Iv_KKKMLxqJz",
        "outputId": "a8f07094-78e7-4d17-ccd3-7d5afb3508b4"
      },
      "execution_count": null,
      "outputs": [
        {
          "output_type": "stream",
          "name": "stdout",
          "text": [
            "float64\n"
          ]
        }
      ]
    },
    {
      "cell_type": "code",
      "source": [
        "# binning continuous values into discrete categories\n",
        "bins = [0, 10, 20, 30]  # Adjust bins based on your data\n",
        "labels = ['low', 'medium', 'high']\n",
        "y_train_binned = pd.cut(y_train, bins=bins, labels=labels)\n",
        "y_train_binned = y_train_binned.astype(str)  # Convert to string if needed\n"
      ],
      "metadata": {
        "id": "aH5vzm7AxtnY"
      },
      "execution_count": null,
      "outputs": []
    },
    {
      "cell_type": "code",
      "source": [
        "print(X_train.shape)\n"
      ],
      "metadata": {
        "colab": {
          "base_uri": "https://localhost:8080/"
        },
        "id": "fa7U2fSkxwbc",
        "outputId": "2a4c32f3-5e71-4de4-904d-e69ae15b24c5"
      },
      "execution_count": null,
      "outputs": [
        {
          "output_type": "stream",
          "name": "stdout",
          "text": [
            "(63453, 30)\n"
          ]
        }
      ]
    },
    {
      "cell_type": "code",
      "source": [
        "if X_train.ndim == 1:\n",
        "    X_train = X_train.reshape(-1, 1)"
      ],
      "metadata": {
        "id": "NYprm3H1xzG1"
      },
      "execution_count": null,
      "outputs": []
    },
    {
      "cell_type": "code",
      "source": [
        "from imblearn.over_sampling import SMOTE\n",
        "\n",
        "smote = SMOTE(random_state=0)\n",
        "X_train_resampled, y_train_resampled = smote.fit_resample(X_train, y_train)"
      ],
      "metadata": {
        "id": "9BEyvg3bx2j3"
      },
      "execution_count": null,
      "outputs": []
    },
    {
      "cell_type": "code",
      "source": [
        "y_train_series = pd.Series(y_train)\n",
        "print(y_train_series.value_counts())"
      ],
      "metadata": {
        "colab": {
          "base_uri": "https://localhost:8080/"
        },
        "id": "8QSf1tk4x5qo",
        "outputId": "4b7910c9-902c-49d2-dc41-6e08f0e47386"
      },
      "execution_count": null,
      "outputs": [
        {
          "output_type": "stream",
          "name": "stdout",
          "text": [
            "Class\n",
            "0.0    63301\n",
            "1.0      152\n",
            "Name: count, dtype: int64\n"
          ]
        }
      ]
    },
    {
      "cell_type": "code",
      "source": [
        "def evaluate(model):\n",
        "  model.fit(X_train,y_train)\n",
        "  pre = model.predict(X_test)\n",
        "\n",
        "  accuracy = accuracy_score(pre,y_test)\n",
        "  recall = recall_score(pre,y_test)\n",
        "  f1 = f1_score(pre,y_test)\n",
        "\n",
        "  sns.heatmap(confusion_matrix(pre,y_test),annot=True)\n",
        "  print(model)\n",
        "  print(\"Accuracy : \",accuracy,\"Recall : \",recall,\"F1 : \",f1)"
      ],
      "metadata": {
        "id": "iRy5ZTeQx83V"
      },
      "execution_count": null,
      "outputs": []
    },
    {
      "cell_type": "code",
      "source": [
        "model_LR = LogisticRegression()"
      ],
      "metadata": {
        "id": "bZNTOR6myAO4"
      },
      "execution_count": null,
      "outputs": []
    },
    {
      "cell_type": "code",
      "source": [
        "#perform cross validation\n",
        "\n",
        "grid={\"C\":np.logspace(-3,3,7), \"penalty\":[\"l2\"]}  # l2 ridge\n",
        "\n",
        "clf_lsr_cv = GridSearchCV(model_LR,grid,cv=3,scoring='roc_auc')\n",
        "clf_lsr_cv.fit(X_train,y_train)\n",
        "\n",
        "print(\"tuned hpyerparameters :(best parameters) \",clf_lsr_cv.best_params_)\n",
        "print(\"accuracy :\",clf_lsr_cv.best_score_)"
      ],
      "metadata": {
        "colab": {
          "base_uri": "https://localhost:8080/"
        },
        "id": "rwIM9LM2yCsi",
        "outputId": "85f52d1a-1b17-4278-cb7d-a6c9fbc9ef2b"
      },
      "execution_count": null,
      "outputs": [
        {
          "output_type": "stream",
          "name": "stdout",
          "text": [
            "tuned hpyerparameters :(best parameters)  {'C': 10.0, 'penalty': 'l2'}\n",
            "accuracy : 0.9823210203666823\n"
          ]
        }
      ]
    },
    {
      "cell_type": "code",
      "source": [
        "if X_train.ndim == 1:\n",
        "    X_train = X_train.reshape(-1, 1)\n",
        "if X_test.ndim == 1:\n",
        "    X_test = X_test.reshape(-1, 1)\n"
      ],
      "metadata": {
        "id": "v2DQdLC4yHA3"
      },
      "execution_count": null,
      "outputs": []
    },
    {
      "cell_type": "code",
      "source": [
        "print(\"Shape of X_train:\", X_train.shape)\n",
        "print(\"Shape of X_test:\", X_test.shape)\n",
        "print(\"Shape of y_train:\", y_train.shape)\n",
        "print(\"Shape of y_test:\", y_test.shape)"
      ],
      "metadata": {
        "colab": {
          "base_uri": "https://localhost:8080/"
        },
        "id": "d9pU2pFfyKcW",
        "outputId": "8efb5fea-e28e-430d-c0e1-b5217c019ec2"
      },
      "execution_count": null,
      "outputs": [
        {
          "output_type": "stream",
          "name": "stdout",
          "text": [
            "Shape of X_train: (63453, 30)\n",
            "Shape of X_test: (15864, 30)\n",
            "Shape of y_train: (63453,)\n",
            "Shape of y_test: (15864,)\n"
          ]
        }
      ]
    },
    {
      "cell_type": "code",
      "source": [
        "from sklearn.linear_model import LogisticRegression\n",
        "\n",
        "lsr_best = LogisticRegression(penalty='l2', C=1000.0, random_state=42)\n",
        "lsr_clf = lsr_best.fit(X_train, y_train)"
      ],
      "metadata": {
        "id": "YOjzn2shyN-U"
      },
      "execution_count": null,
      "outputs": []
    },
    {
      "cell_type": "code",
      "source": [
        "# Assuming evaluate is a custom function for model evaluation\n",
        "# Replace 'evaluate' with the actual evaluation method\n",
        "def evaluate(model, X_test, y_test):\n",
        "    from sklearn.metrics import accuracy_score, classification_report\n",
        "    y_pred = model.predict(X_test)\n",
        "    print(\"Accuracy:\", accuracy_score(y_test, y_pred))\n",
        "    print(\"Classification Report:\\n\", classification_report(y_test, y_pred))\n",
        "\n",
        "# Evaluate the model\n",
        "evaluate(lsr_clf, X_test, y_test)"
      ],
      "metadata": {
        "colab": {
          "base_uri": "https://localhost:8080/"
        },
        "id": "hoSOe3ewySTp",
        "outputId": "e3e11e4d-a699-45aa-ddc6-730c4db29c0c"
      },
      "execution_count": null,
      "outputs": [
        {
          "output_type": "stream",
          "name": "stdout",
          "text": [
            "Accuracy: 0.998613212304589\n",
            "Classification Report:\n",
            "               precision    recall  f1-score   support\n",
            "\n",
            "         0.0       1.00      1.00      1.00     15825\n",
            "         1.0       0.79      0.59      0.68        39\n",
            "\n",
            "    accuracy                           1.00     15864\n",
            "   macro avg       0.90      0.79      0.84     15864\n",
            "weighted avg       1.00      1.00      1.00     15864\n",
            "\n"
          ]
        }
      ]
    },
    {
      "cell_type": "code",
      "source": [
        "model_KNN = KNeighborsClassifier()"
      ],
      "metadata": {
        "id": "NDri_7yIyV-D"
      },
      "execution_count": null,
      "outputs": []
    },
    {
      "cell_type": "code",
      "source": [
        "k_range = np.arange(1, 20, 2)\n",
        "scores = [] #to store cross val score for each k\n",
        "for k in k_range:\n",
        "  model_KNN  = KNeighborsClassifier(n_neighbors=k)\n",
        "  model_KNN .fit(X_train,y_train)\n",
        "  score = cross_val_score(model_KNN , X_train, y_train, cv=3, n_jobs = -1)\n",
        "  scores.append(score.mean())\n",
        "\n",
        "#Storing the mean squared error to decide optimum k\n",
        "mse = [1-x for x in scores]"
      ],
      "metadata": {
        "id": "LIbhVXu_yY4L"
      },
      "execution_count": null,
      "outputs": []
    },
    {
      "cell_type": "code",
      "source": [
        "plt.figure(figsize=(20,8))\n",
        "plt.subplot(121)\n",
        "sns.lineplot(x=k_range,y=mse,markers=True,dashes=False)\n",
        "plt.xlabel(\"Value of K\")\n",
        "plt.ylabel(\"Mean Squared Error\")\n",
        "plt.subplot(122)\n",
        "sns.lineplot(x=k_range,y=scores,markers=True,dashes=False)\n",
        "plt.xlabel(\"Value of K\")\n",
        "plt.ylabel(\"Cross Validation Accuracy\")\n",
        "\n",
        "plt.show()"
      ],
      "metadata": {
        "colab": {
          "base_uri": "https://localhost:8080/",
          "height": 276
        },
        "id": "pWNldcpBz2rT",
        "outputId": "5a829b9b-fbba-4ff1-dde2-ceb2bcdf1bfc"
      },
      "execution_count": null,
      "outputs": [
        {
          "output_type": "display_data",
          "data": {
            "text/plain": [
              "<Figure size 2000x800 with 2 Axes>"
            ],
            "image/png": "[encoded data removed]"
          },
          "metadata": {}
        }
      ]
    },
    {
      "cell_type": "code",
      "source": [
        "knn = KNeighborsClassifier(n_neighbors=3)\n",
        "\n",
        "knn_clf = knn.fit(X_train,y_train)\n",
        "\n",
        "evaluate(knn_clf, X_test, y_test)"
      ],
      "metadata": {
        "colab": {
          "base_uri": "https://localhost:8080/"
        },
        "id": "4ueEM03uz7EE",
        "outputId": "bbc881f4-e156-47d1-8703-38c0cba744e4"
      },
      "execution_count": null,
      "outputs": [
        {
          "output_type": "stream",
          "name": "stdout",
          "text": [
            "Accuracy: 0.9993696419566314\n",
            "Classification Report:\n",
            "               precision    recall  f1-score   support\n",
            "\n",
            "         0.0       1.00      1.00      1.00     15825\n",
            "         1.0       1.00      0.74      0.85        39\n",
            "\n",
            "    accuracy                           1.00     15864\n",
            "   macro avg       1.00      0.87      0.93     15864\n",
            "weighted avg       1.00      1.00      1.00     15864\n",
            "\n"
          ]
        }
      ]
    },
    {
      "cell_type": "code",
      "source": [
        "model_RFC = RandomForestClassifier()"
      ],
      "metadata": {
        "id": "LY5nrLX4z-xp"
      },
      "execution_count": null,
      "outputs": []
    },
    {
      "cell_type": "code",
      "source": [
        "# Using grid search cv to find the best parameters.\n",
        "\n",
        "param = {'n_estimators': [10, 20, 30, 40, 50], 'max_depth': [2, 3, 4, 7, 9]}\n",
        "clf_rfc_cv = GridSearchCV(model_RFC, param, cv=5,scoring='roc_auc', n_jobs=-1)\n",
        "clf_rfc_cv.fit(X_train,y_train)\n",
        "\n",
        "print(\"tuned hpyerparameters :(best parameters) \",clf_rfc_cv.best_params_)\n",
        "print(\"accuracy :\",clf_rfc_cv.best_score_)"
      ],
      "metadata": {
        "colab": {
          "base_uri": "https://localhost:8080/"
        },
        "id": "8U-ckJmz6SC3",
        "outputId": "f95873cf-f001-48ae-9113-5cb4ba3ada20"
      },
      "execution_count": null,
      "outputs": [
        {
          "output_type": "stream",
          "name": "stdout",
          "text": [
            "tuned hpyerparameters :(best parameters)  {'max_depth': 9, 'n_estimators': 30}\n",
            "accuracy : 0.9853983535696104\n"
          ]
        }
      ]
    },
    {
      "cell_type": "code",
      "source": [
        "#Fitting model\n",
        "\n",
        "rf = RandomForestClassifier(max_depth=9, n_estimators=50)\n",
        "RFC_clf = rf.fit(X_train,y_train)\n",
        "\n",
        "evaluate(RFC_clf, X_test, y_test)"
      ],
      "metadata": {
        "colab": {
          "base_uri": "https://localhost:8080/"
        },
        "id": "B96o4IZV-x67",
        "outputId": "48fbb46c-4e52-4be0-ce6d-a843e1f2845b"
      },
      "execution_count": null,
      "outputs": [
        {
          "output_type": "stream",
          "name": "stdout",
          "text": [
            "Accuracy: 0.9991805345436208\n",
            "Classification Report:\n",
            "               precision    recall  f1-score   support\n",
            "\n",
            "         0.0       1.00      1.00      1.00     15825\n",
            "         1.0       0.93      0.72      0.81        39\n",
            "\n",
            "    accuracy                           1.00     15864\n",
            "   macro avg       0.97      0.86      0.91     15864\n",
            "weighted avg       1.00      1.00      1.00     15864\n",
            "\n"
          ]
        }
      ]
    },
    {
      "cell_type": "code",
      "source": [
        "model_ANN = Sequential([\n",
        "    Dense(32, activation='relu', input_dim=X_train.shape[1]),\n",
        "\n",
        "    Dense(16, activation='relu'),\n",
        "\n",
        "    Dense(8, activation='relu'),\n",
        "\n",
        "    Dense(1, activation='sigmoid')\n",
        "])\n",
        "\n",
        "model_ANN.compile(optimizer='adam', loss='binary_crossentropy', metrics=['accuracy'])\n",
        "model_ANN.summary()"
      ],
      "metadata": {
        "colab": {
          "base_uri": "https://localhost:8080/"
        },
        "id": "cw9oqc60-8Uq",
        "outputId": "401c0fc9-c08f-49f1-f7eb-60b1ddc45a63"
      },
      "execution_count": null,
      "outputs": [
        {
          "output_type": "stream",
          "name": "stdout",
          "text": [
            "Model: \"sequential\"\n",
            "_________________________________________________________________\n",
            " Layer (type)                Output Shape              Param #   \n",
            "=================================================================\n",
            " dense (Dense)               (None, 32)                992       \n",
            "                                                                 \n",
            " dense_1 (Dense)             (None, 16)                528       \n",
            "                                                                 \n",
            " dense_2 (Dense)             (None, 8)                 136       \n",
            "                                                                 \n",
            " dense_3 (Dense)             (None, 1)                 9         \n",
            "                                                                 \n",
            "=================================================================\n",
            "Total params: 1665 (6.50 KB)\n",
            "Trainable params: 1665 (6.50 KB)\n",
            "Non-trainable params: 0 (0.00 Byte)\n",
            "_________________________________________________________________\n"
          ]
        }
      ]
    },
    {
      "cell_type": "code",
      "source": [
        "X_train = X_train.to_numpy() if hasattr(X_train, 'to_numpy') else np.array(X_train)\n",
        "y_train = y_train.to_numpy() if hasattr(y_train, 'to_numpy') else np.array(y_train)\n"
      ],
      "metadata": {
        "id": "5PgVbdQk_Vr6"
      },
      "execution_count": null,
      "outputs": []
    },
    {
      "cell_type": "code",
      "source": [
        "import numpy as np\n",
        "\n",
        "if isinstance(X_train, pd.DataFrame) or isinstance(X_train, pd.Series):\n",
        "    X_train = X_train.values\n",
        "if isinstance(y_train, pd.DataFrame) or isinstance(y_train, pd.Series):\n",
        "    y_train = y_train.values\n"
      ],
      "metadata": {
        "id": "AU4BjiSD_Z_s"
      },
      "execution_count": null,
      "outputs": []
    },
    {
      "cell_type": "code",
      "source": [
        "history = model_ANN.fit(X_train, y_train, epochs=50, batch_size=64, validation_split=0.2)"
      ],
      "metadata": {
        "colab": {
          "base_uri": "https://localhost:8080/"
        },
        "id": "VZldusVg_dfw",
        "outputId": "d6ec7260-bd16-44bc-8095-4b22371de071"
      },
      "execution_count": null,
      "outputs": [
        {
          "output_type": "stream",
          "name": "stdout",
          "text": [
            "Epoch 1/50\n",
            "794/794 [==============================] - 5s 3ms/step - loss: 0.0320 - accuracy: 0.9975 - val_loss: 0.0110 - val_accuracy: 0.9981\n",
            "Epoch 2/50\n",
            "794/794 [==============================] - 2s 2ms/step - loss: 0.0106 - accuracy: 0.9977 - val_loss: 0.0062 - val_accuracy: 0.9983\n",
            "Epoch 3/50\n",
            "794/794 [==============================] - 2s 2ms/step - loss: 0.0067 - accuracy: 0.9983 - val_loss: 0.0042 - val_accuracy: 0.9986\n",
            "Epoch 4/50\n",
            "794/794 [==============================] - 2s 2ms/step - loss: 0.0055 - accuracy: 0.9986 - val_loss: 0.0035 - val_accuracy: 0.9990\n",
            "Epoch 5/50\n",
            "794/794 [==============================] - 2s 2ms/step - loss: 0.0049 - accuracy: 0.9987 - val_loss: 0.0031 - val_accuracy: 0.9990\n",
            "Epoch 6/50\n",
            "794/794 [==============================] - 2s 2ms/step - loss: 0.0047 - accuracy: 0.9988 - val_loss: 0.0033 - val_accuracy: 0.9989\n",
            "Epoch 7/50\n",
            "794/794 [==============================] - 3s 4ms/step - loss: 0.0045 - accuracy: 0.9989 - val_loss: 0.0029 - val_accuracy: 0.9988\n",
            "Epoch 8/50\n",
            "794/794 [==============================] - 2s 2ms/step - loss: 0.0044 - accuracy: 0.9989 - val_loss: 0.0024 - val_accuracy: 0.9993\n",
            "Epoch 9/50\n",
            "794/794 [==============================] - 2s 2ms/step - loss: 0.0043 - accuracy: 0.9990 - val_loss: 0.0030 - val_accuracy: 0.9990\n",
            "Epoch 10/50\n",
            "794/794 [==============================] - 2s 2ms/step - loss: 0.0041 - accuracy: 0.9990 - val_loss: 0.0023 - val_accuracy: 0.9993\n",
            "Epoch 11/50\n",
            "794/794 [==============================] - 2s 2ms/step - loss: 0.0042 - accuracy: 0.9990 - val_loss: 0.0021 - val_accuracy: 0.9994\n",
            "Epoch 12/50\n",
            "794/794 [==============================] - 2s 2ms/step - loss: 0.0040 - accuracy: 0.9991 - val_loss: 0.0022 - val_accuracy: 0.9992\n",
            "Epoch 13/50\n",
            "794/794 [==============================] - 2s 3ms/step - loss: 0.0038 - accuracy: 0.9991 - val_loss: 0.0021 - val_accuracy: 0.9993\n",
            "Epoch 14/50\n",
            "794/794 [==============================] - 3s 3ms/step - loss: 0.0039 - accuracy: 0.9991 - val_loss: 0.0020 - val_accuracy: 0.9993\n",
            "Epoch 15/50\n",
            "794/794 [==============================] - 2s 3ms/step - loss: 0.0040 - accuracy: 0.9991 - val_loss: 0.0021 - val_accuracy: 0.9992\n",
            "Epoch 16/50\n",
            "794/794 [==============================] - 2s 2ms/step - loss: 0.0038 - accuracy: 0.9991 - val_loss: 0.0021 - val_accuracy: 0.9994\n",
            "Epoch 17/50\n",
            "794/794 [==============================] - 2s 2ms/step - loss: 0.0039 - accuracy: 0.9991 - val_loss: 0.0023 - val_accuracy: 0.9992\n",
            "Epoch 18/50\n",
            "794/794 [==============================] - 2s 2ms/step - loss: 0.0039 - accuracy: 0.9991 - val_loss: 0.0021 - val_accuracy: 0.9991\n",
            "Epoch 19/50\n",
            "794/794 [==============================] - 2s 2ms/step - loss: 0.0040 - accuracy: 0.9991 - val_loss: 0.0019 - val_accuracy: 0.9994\n",
            "Epoch 20/50\n",
            "794/794 [==============================] - 2s 2ms/step - loss: 0.0039 - accuracy: 0.9991 - val_loss: 0.0019 - val_accuracy: 0.9993\n",
            "Epoch 21/50\n",
            "794/794 [==============================] - 3s 3ms/step - loss: 0.0040 - accuracy: 0.9991 - val_loss: 0.0019 - val_accuracy: 0.9994\n",
            "Epoch 22/50\n",
            "794/794 [==============================] - 2s 3ms/step - loss: 0.0037 - accuracy: 0.9990 - val_loss: 0.0018 - val_accuracy: 0.9993\n",
            "Epoch 23/50\n",
            "794/794 [==============================] - 2s 2ms/step - loss: 0.0036 - accuracy: 0.9991 - val_loss: 0.0020 - val_accuracy: 0.9994\n",
            "Epoch 24/50\n",
            "794/794 [==============================] - 2s 2ms/step - loss: 0.0037 - accuracy: 0.9992 - val_loss: 0.0017 - val_accuracy: 0.9994\n",
            "Epoch 25/50\n",
            "794/794 [==============================] - 3s 3ms/step - loss: 0.0036 - accuracy: 0.9992 - val_loss: 0.0019 - val_accuracy: 0.9994\n",
            "Epoch 26/50\n",
            "794/794 [==============================] - 2s 3ms/step - loss: 0.0035 - accuracy: 0.9992 - val_loss: 0.0025 - val_accuracy: 0.9992\n",
            "Epoch 27/50\n",
            "794/794 [==============================] - 3s 3ms/step - loss: 0.0037 - accuracy: 0.9992 - val_loss: 0.0018 - val_accuracy: 0.9994\n",
            "Epoch 28/50\n",
            "794/794 [==============================] - 3s 3ms/step - loss: 0.0034 - accuracy: 0.9993 - val_loss: 0.0027 - val_accuracy: 0.9994\n",
            "Epoch 29/50\n",
            "794/794 [==============================] - 2s 2ms/step - loss: 0.0036 - accuracy: 0.9993 - val_loss: 0.0018 - val_accuracy: 0.9994\n",
            "Epoch 30/50\n",
            "794/794 [==============================] - 2s 3ms/step - loss: 0.0035 - accuracy: 0.9992 - val_loss: 0.0018 - val_accuracy: 0.9997\n",
            "Epoch 31/50\n",
            "794/794 [==============================] - 2s 2ms/step - loss: 0.0035 - accuracy: 0.9992 - val_loss: 0.0017 - val_accuracy: 0.9995\n",
            "Epoch 32/50\n",
            "794/794 [==============================] - 2s 2ms/step - loss: 0.0036 - accuracy: 0.9992 - val_loss: 0.0015 - val_accuracy: 0.9995\n",
            "Epoch 33/50\n",
            "794/794 [==============================] - 2s 2ms/step - loss: 0.0034 - accuracy: 0.9992 - val_loss: 0.0014 - val_accuracy: 0.9998\n",
            "Epoch 34/50\n",
            "794/794 [==============================] - 3s 4ms/step - loss: 0.0033 - accuracy: 0.9993 - val_loss: 0.0016 - val_accuracy: 0.9994\n",
            "Epoch 35/50\n",
            "794/794 [==============================] - 2s 2ms/step - loss: 0.0034 - accuracy: 0.9992 - val_loss: 0.0016 - val_accuracy: 0.9995\n",
            "Epoch 36/50\n",
            "794/794 [==============================] - 2s 3ms/step - loss: 0.0036 - accuracy: 0.9992 - val_loss: 0.0017 - val_accuracy: 0.9994\n",
            "Epoch 37/50\n",
            "794/794 [==============================] - 2s 2ms/step - loss: 0.0034 - accuracy: 0.9992 - val_loss: 0.0017 - val_accuracy: 0.9996\n",
            "Epoch 38/50\n",
            "794/794 [==============================] - 2s 2ms/step - loss: 0.0035 - accuracy: 0.9993 - val_loss: 0.0020 - val_accuracy: 0.9994\n",
            "Epoch 39/50\n",
            "794/794 [==============================] - 2s 2ms/step - loss: 0.0036 - accuracy: 0.9993 - val_loss: 0.0016 - val_accuracy: 0.9994\n",
            "Epoch 40/50\n",
            "794/794 [==============================] - 2s 3ms/step - loss: 0.0033 - accuracy: 0.9993 - val_loss: 0.0020 - val_accuracy: 0.9996\n",
            "Epoch 41/50\n",
            "794/794 [==============================] - 3s 3ms/step - loss: 0.0036 - accuracy: 0.9992 - val_loss: 0.0019 - val_accuracy: 0.9993\n",
            "Epoch 42/50\n",
            "794/794 [==============================] - 2s 2ms/step - loss: 0.0032 - accuracy: 0.9992 - val_loss: 0.0014 - val_accuracy: 0.9997\n",
            "Epoch 43/50\n",
            "794/794 [==============================] - 3s 3ms/step - loss: 0.0033 - accuracy: 0.9992 - val_loss: 0.0016 - val_accuracy: 0.9994\n",
            "Epoch 44/50\n",
            "794/794 [==============================] - 3s 3ms/step - loss: 0.0035 - accuracy: 0.9993 - val_loss: 0.0014 - val_accuracy: 0.9995\n",
            "Epoch 45/50\n",
            "794/794 [==============================] - 2s 2ms/step - loss: 0.0032 - accuracy: 0.9993 - val_loss: 0.0015 - val_accuracy: 0.9996\n",
            "Epoch 46/50\n",
            "794/794 [==============================] - 3s 3ms/step - loss: 0.0034 - accuracy: 0.9993 - val_loss: 0.0016 - val_accuracy: 0.9995\n",
            "Epoch 47/50\n",
            "794/794 [==============================] - 3s 3ms/step - loss: 0.0033 - accuracy: 0.9992 - val_loss: 0.0022 - val_accuracy: 0.9992\n",
            "Epoch 48/50\n",
            "794/794 [==============================] - 2s 2ms/step - loss: 0.0031 - accuracy: 0.9993 - val_loss: 0.0024 - val_accuracy: 0.9995\n",
            "Epoch 49/50\n",
            "794/794 [==============================] - 2s 2ms/step - loss: 0.0033 - accuracy: 0.9993 - val_loss: 0.0014 - val_accuracy: 0.9995\n",
            "Epoch 50/50\n",
            "794/794 [==============================] - 2s 2ms/step - loss: 0.0032 - accuracy: 0.9993 - val_loss: 0.0014 - val_accuracy: 0.9996\n"
          ]
        }
      ]
    },
    {
      "cell_type": "code",
      "source": [
        "y_pred = model_ANN.predict(X_test)\n",
        "y_pred = (y_pred > 0.5)"
      ],
      "metadata": {
        "colab": {
          "base_uri": "https://localhost:8080/"
        },
        "id": "4_xrpzwyAl6j",
        "outputId": "052b3b33-fa3c-42a0-f227-a31156bcdc3f"
      },
      "execution_count": null,
      "outputs": [
        {
          "output_type": "stream",
          "name": "stdout",
          "text": [
            "496/496 [==============================] - 2s 3ms/step\n"
          ]
        }
      ]
    },
    {
      "cell_type": "code",
      "source": [
        "classification_report(y_pred,y_test)"
      ],
      "metadata": {
        "colab": {
          "base_uri": "https://localhost:8080/",
          "height": 53
        },
        "id": "loPenRJ4Aoy8",
        "outputId": "d6c229ac-8a45-40be-83a7-71e33bd5488a"
      },
      "execution_count": null,
      "outputs": [
        {
          "output_type": "execute_result",
          "data": {
            "text/plain": [
              "'              precision    recall  f1-score   support\\n\\n       False       1.00      1.00      1.00     15835\\n        True       0.72      0.97      0.82        29\\n\\n    accuracy                           1.00     15864\\n   macro avg       0.86      0.98      0.91     15864\\nweighted avg       1.00      1.00      1.00     15864\\n'"
            ],
            "application/vnd.google.colaboratory.intrinsic+json": {
              "type": "string"
            }
          },
          "metadata": {},
          "execution_count": 57
        }
      ]
    },
    {
      "cell_type": "code",
      "source": [
        "cm = confusion_matrix(y_test,y_pred)\n",
        "sns.heatmap(cm, annot=True)\n",
        "plt.show()"
      ],
      "metadata": {
        "colab": {
          "base_uri": "https://localhost:8080/",
          "height": 430
        },
        "id": "UI0mNsSQAseF",
        "outputId": "8ffc7481-bb72-49c1-a376-3365d0b03c49"
      },
      "execution_count": null,
      "outputs": [
        {
          "output_type": "display_data",
          "data": {
            "text/plain": [
              "<Figure size 640x480 with 2 Axes>"
            ],
            "image/png": "[encoded data removed]"
          },
          "metadata": {}
        }
      ]
    },
    {
      "cell_type": "code",
      "source": [
        "print(X.shape)"
      ],
      "metadata": {
        "colab": {
          "base_uri": "https://localhost:8080/"
        },
        "id": "AGnZv_mrA2NS",
        "outputId": "a69b7163-09ab-4d32-d51f-01c701a97309"
      },
      "execution_count": null,
      "outputs": [
        {
          "output_type": "stream",
          "name": "stdout",
          "text": [
            "(79317, 30)\n"
          ]
        }
      ]
    },
    {
      "cell_type": "code",
      "source": [
        "if X.ndim == 1:\n",
        "    X = X.reshape(-1, 1)"
      ],
      "metadata": {
        "id": "uB0ow-zHA4qE"
      },
      "execution_count": null,
      "outputs": []
    },
    {
      "cell_type": "code",
      "source": [
        "from sklearn.cluster import KMeans\n",
        "\n",
        "kmeans = KMeans(n_clusters=2, init='k-means++', max_iter=300, n_init=10, random_state=42)\n",
        "y_kmeans = kmeans.fit_predict(X)"
      ],
      "metadata": {
        "id": "RBQ66fBkA6rJ"
      },
      "execution_count": null,
      "outputs": []
    },
    {
      "cell_type": "code",
      "source": [
        "X"
      ],
      "metadata": {
        "colab": {
          "base_uri": "https://localhost:8080/"
        },
        "id": "g3G8AfqhA8Zx",
        "outputId": "769d6f63-a349-48e8-f98b-3d7b67e5689d"
      },
      "execution_count": null,
      "outputs": [
        {
          "output_type": "execute_result",
          "data": {
            "text/plain": [
              "array([[0.00000000e+00, 9.43114320e-01, 7.92887897e-01, ...,\n",
              "        4.42109723e-01, 2.20791504e-01, 7.61171987e-03],\n",
              "       [0.00000000e+00, 9.86831151e-01, 7.96587293e-01, ...,\n",
              "        4.35493238e-01, 2.21614617e-01, 1.36850197e-04],\n",
              "       [1.72511946e-05, 9.43139215e-01, 7.79054596e-01, ...,\n",
              "        4.33340850e-01, 2.19901175e-01, 1.92638273e-02],\n",
              "       ...,\n",
              "       [9.99982749e-01, 9.57135446e-01, 8.08320130e-01, ...,\n",
              "        4.38008041e-01, 2.23583264e-01, 2.50959859e-03],\n",
              "       [9.99982749e-01, 9.52187600e-01, 8.04289154e-01, ...,\n",
              "        4.18107534e-01, 2.16127429e-01, 7.42755715e-04],\n",
              "       [9.99982749e-01, 9.85340277e-01, 7.81221332e-01, ...,\n",
              "        4.37012345e-01, 2.21878779e-01, 5.03649423e-03]])"
            ]
          },
          "metadata": {},
          "execution_count": 62
        }
      ]
    },
    {
      "cell_type": "code",
      "source": [
        "#Scatter plot with a single feature\n",
        "from sklearn.cluster import KMeans\n",
        "\n",
        "# Example data with a single feature\n",
        "X = np.random.rand(100, 1)\n",
        "\n",
        "# Fit and predict with KMeans\n",
        "kmeans = KMeans(n_clusters=2, init='k-means++', max_iter=300, n_init=10, random_state=42)\n",
        "y_kmeans = kmeans.fit_predict(X)\n",
        "\n",
        "# Scatter plot with a single feature\n",
        "plt.scatter(X[y_kmeans == 0], np.zeros_like(X[y_kmeans == 0]), s=100, c='red', label='Cluster 1')\n",
        "plt.scatter(X[y_kmeans == 1], np.zeros_like(X[y_kmeans == 1]), s=100, c='blue', label='Cluster 2')\n",
        "plt.xlabel('Feature 1')\n",
        "plt.ylabel('Value (Constant Zero)')\n",
        "plt.legend()\n",
        "plt.title('KMeans Clustering with a Single Feature')\n",
        "plt.show()"
      ],
      "metadata": {
        "colab": {
          "base_uri": "https://localhost:8080/",
          "height": 472
        },
        "id": "-Ci4PJ8KBBU_",
        "outputId": "c86b751f-c5cb-4a0b-f741-07297df5fc88"
      },
      "execution_count": null,
      "outputs": [
        {
          "output_type": "display_data",
          "data": {
            "text/plain": [
              "<Figure size 640x480 with 1 Axes>"
            ],
            "image/png": "[encoded data removed]"
          },
          "metadata": {}
        }
      ]
    },
    {
      "cell_type": "code",
      "source": [
        "# OR\n",
        "#Using PCA for dimensionality reduction\n",
        "from sklearn.cluster import KMeans\n",
        "from sklearn.decomposition import PCA\n",
        "\n",
        "# Example data with multiple features\n",
        "X = np.random.rand(100, 5)  # Assuming multiple features for demonstration\n",
        "\n",
        "# Fit and predict with KMeans\n",
        "kmeans = KMeans(n_clusters=2, init='k-means++', max_iter=300, n_init=10, random_state=42)\n",
        "y_kmeans = kmeans.fit_predict(X)\n",
        "\n",
        "# Reduce to 2D using PCA\n",
        "pca = PCA(n_components=2)\n",
        "X_pca = pca.fit_transform(X)\n",
        "\n",
        "# Scatter plot with PCA-reduced features\n",
        "plt.scatter(X_pca[y_kmeans == 0, 0], X_pca[y_kmeans == 0, 1], s=100, c='red', label='Cluster 1')\n",
        "plt.scatter(X_pca[y_kmeans == 1, 0], X_pca[y_kmeans == 1, 1], s=100, c='blue', label='Cluster 2')\n",
        "plt.xlabel('PCA Feature 1')\n",
        "plt.ylabel('PCA Feature 2')\n",
        "plt.legend()\n",
        "plt.title('KMeans Clustering with PCA')\n",
        "plt.show()"
      ],
      "metadata": {
        "colab": {
          "base_uri": "https://localhost:8080/",
          "height": 472
        },
        "id": "oSkNXT5WBEmR",
        "outputId": "ff6dddc0-b6b9-430b-c88f-523dfe2e2619"
      },
      "execution_count": null,
      "outputs": [
        {
          "output_type": "display_data",
          "data": {
            "text/plain": [
              "<Figure size 640x480 with 1 Axes>"
            ],
            "image/png": "[encoded data removed]"
          },
          "metadata": {}
        }
      ]
    }
  ]
}